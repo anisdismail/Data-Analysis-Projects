{
  "nbformat": 4,
  "nbformat_minor": 0,
  "metadata": {
    "colab": {
      "name": "Basics.ipynb",
      "version": "0.3.2",
      "provenance": [],
      "collapsed_sections": [
        "FT6BAzwJyA1W"
      ]
    },
    "language_info": {
      "codemirror_mode": {
        "name": "ipython",
        "version": 3
      },
      "file_extension": ".py",
      "mimetype": "text/x-python",
      "name": "python",
      "nbconvert_exporter": "python",
      "pygments_lexer": "ipython3",
      "version": "3.4.3"
    },
    "kernelspec": {
      "display_name": "Python 3",
      "language": "python",
      "name": "python3"
    }
  },
  "cells": [
    {
      "cell_type": "markdown",
      "metadata": {
        "collapsed": true,
        "id": "CKHcTjUPyA0F",
        "colab_type": "text"
      },
      "source": [
        "# Analyzing Used Car Listings on eBay Kleinanzeigen\n",
        "The aim of this project is to clean the dataset of used cars from eBay Kleinanzigen\n",
        "and analyze the included used car listings.<br>\n",
        "The dataset was originally scraped and uploaded to [Kaggle](https://www.kaggle.com/orgesleka/used-cars-database/data). The version of the dataset we are working with is a sample of 50,000 data points that was prepared by [Dataquest](https://www.dataquest.io/) including simulating a less-cleaned version of the data. <br><br>\n",
        "The data dictionary provided with data is as follows:<br>\n",
        "\n",
        "- dateCrawled - When this ad was first crawled. All field-values are taken from this date.\n",
        "- name - Name of the car.\n",
        "- seller - Whether the seller is private or a dealer.\n",
        "- offerType - The type of listing\n",
        "- price - The price on the ad to sell the car.\n",
        "- abtest - Whether the listing is included in an A/B test.\n",
        "- vehicleType - The vehicle Type.\n",
        "- yearOfRegistration - The year in which which year the car was first registered.\n",
        "- gearbox - The transmission type.\n",
        "- powerPS - The power of the car in PS.\n",
        "- model - The car model name.\n",
        "- kilometer - How many kilometers the car has driven.\n",
        "- monthOfRegistration - The month in which which year the car was first registered.\n",
        "- fuelType - What type of fuel the car uses.\n",
        "- brand - The brand of the car.\n",
        "- notRepairedDamage - If the car has a damage which is not yet repaired.\n",
        "- dateCreated - The date on which the eBay listing was created.\n",
        "- nrOfPictures - The number of pictures in the ad.\n",
        "- postalCode - The postal code for the location of the vehicle.\n",
        "- lastSeenOnline - When the crawler saw this ad last online.\n"
      ]
    },
    {
      "cell_type": "code",
      "metadata": {
        "id": "abkqx4Z7yA0H",
        "colab_type": "code",
        "colab": {}
      },
      "source": [
        "#Import the pandas and NumPy libraries\n",
        "import pandas as pd\n",
        "import numpy as np"
      ],
      "execution_count": 0,
      "outputs": []
    },
    {
      "cell_type": "code",
      "metadata": {
        "id": "XIMP4IhdyA0P",
        "colab_type": "code",
        "colab": {}
      },
      "source": [
        "#Read the autos.csv CSV file into pandas\n",
        "autos=pd.read_csv(\"autos.csv\",encoding=\"Latin-1\")"
      ],
      "execution_count": 0,
      "outputs": []
    },
    {
      "cell_type": "code",
      "metadata": {
        "scrolled": true,
        "id": "Kp2D6Uf3yA0V",
        "colab_type": "code",
        "outputId": "25effda6-d77b-4d36-8110-4d1ee79392f8",
        "colab": {
          "base_uri": "https://localhost:8080/",
          "height": 823
        }
      },
      "source": [
        "#print information about the autos dataframe, as well as the first few rows.\n",
        "autos.info()\n",
        "autos.head()"
      ],
      "execution_count": 0,
      "outputs": [
        {
          "output_type": "stream",
          "text": [
            "<class 'pandas.core.frame.DataFrame'>\n",
            "RangeIndex: 50000 entries, 0 to 49999\n",
            "Data columns (total 20 columns):\n",
            "dateCrawled            50000 non-null object\n",
            "name                   50000 non-null object\n",
            "seller                 50000 non-null object\n",
            "offerType              50000 non-null object\n",
            "price                  50000 non-null object\n",
            "abtest                 50000 non-null object\n",
            "vehicleType            44905 non-null object\n",
            "yearOfRegistration     50000 non-null int64\n",
            "gearbox                47320 non-null object\n",
            "powerPS                50000 non-null int64\n",
            "model                  47242 non-null object\n",
            "odometer               50000 non-null object\n",
            "monthOfRegistration    50000 non-null int64\n",
            "fuelType               45518 non-null object\n",
            "brand                  50000 non-null object\n",
            "notRepairedDamage      40171 non-null object\n",
            "dateCreated            50000 non-null object\n",
            "nrOfPictures           50000 non-null int64\n",
            "postalCode             50000 non-null int64\n",
            "lastSeen               50000 non-null object\n",
            "dtypes: int64(5), object(15)\n",
            "memory usage: 7.6+ MB\n"
          ],
          "name": "stdout"
        },
        {
          "output_type": "execute_result",
          "data": {
            "text/html": [
              "<div>\n",
              "<style scoped>\n",
              "    .dataframe tbody tr th:only-of-type {\n",
              "        vertical-align: middle;\n",
              "    }\n",
              "\n",
              "    .dataframe tbody tr th {\n",
              "        vertical-align: top;\n",
              "    }\n",
              "\n",
              "    .dataframe thead th {\n",
              "        text-align: right;\n",
              "    }\n",
              "</style>\n",
              "<table border=\"1\" class=\"dataframe\">\n",
              "  <thead>\n",
              "    <tr style=\"text-align: right;\">\n",
              "      <th></th>\n",
              "      <th>dateCrawled</th>\n",
              "      <th>name</th>\n",
              "      <th>seller</th>\n",
              "      <th>offerType</th>\n",
              "      <th>price</th>\n",
              "      <th>abtest</th>\n",
              "      <th>vehicleType</th>\n",
              "      <th>yearOfRegistration</th>\n",
              "      <th>gearbox</th>\n",
              "      <th>powerPS</th>\n",
              "      <th>model</th>\n",
              "      <th>odometer</th>\n",
              "      <th>monthOfRegistration</th>\n",
              "      <th>fuelType</th>\n",
              "      <th>brand</th>\n",
              "      <th>notRepairedDamage</th>\n",
              "      <th>dateCreated</th>\n",
              "      <th>nrOfPictures</th>\n",
              "      <th>postalCode</th>\n",
              "      <th>lastSeen</th>\n",
              "    </tr>\n",
              "  </thead>\n",
              "  <tbody>\n",
              "    <tr>\n",
              "      <th>0</th>\n",
              "      <td>2016-03-26 17:47:46</td>\n",
              "      <td>Peugeot_807_160_NAVTECH_ON_BOARD</td>\n",
              "      <td>privat</td>\n",
              "      <td>Angebot</td>\n",
              "      <td>$5,000</td>\n",
              "      <td>control</td>\n",
              "      <td>bus</td>\n",
              "      <td>2004</td>\n",
              "      <td>manuell</td>\n",
              "      <td>158</td>\n",
              "      <td>andere</td>\n",
              "      <td>150,000km</td>\n",
              "      <td>3</td>\n",
              "      <td>lpg</td>\n",
              "      <td>peugeot</td>\n",
              "      <td>nein</td>\n",
              "      <td>2016-03-26 00:00:00</td>\n",
              "      <td>0</td>\n",
              "      <td>79588</td>\n",
              "      <td>2016-04-06 06:45:54</td>\n",
              "    </tr>\n",
              "    <tr>\n",
              "      <th>1</th>\n",
              "      <td>2016-04-04 13:38:56</td>\n",
              "      <td>BMW_740i_4_4_Liter_HAMANN_UMBAU_Mega_Optik</td>\n",
              "      <td>privat</td>\n",
              "      <td>Angebot</td>\n",
              "      <td>$8,500</td>\n",
              "      <td>control</td>\n",
              "      <td>limousine</td>\n",
              "      <td>1997</td>\n",
              "      <td>automatik</td>\n",
              "      <td>286</td>\n",
              "      <td>7er</td>\n",
              "      <td>150,000km</td>\n",
              "      <td>6</td>\n",
              "      <td>benzin</td>\n",
              "      <td>bmw</td>\n",
              "      <td>nein</td>\n",
              "      <td>2016-04-04 00:00:00</td>\n",
              "      <td>0</td>\n",
              "      <td>71034</td>\n",
              "      <td>2016-04-06 14:45:08</td>\n",
              "    </tr>\n",
              "    <tr>\n",
              "      <th>2</th>\n",
              "      <td>2016-03-26 18:57:24</td>\n",
              "      <td>Volkswagen_Golf_1.6_United</td>\n",
              "      <td>privat</td>\n",
              "      <td>Angebot</td>\n",
              "      <td>$8,990</td>\n",
              "      <td>test</td>\n",
              "      <td>limousine</td>\n",
              "      <td>2009</td>\n",
              "      <td>manuell</td>\n",
              "      <td>102</td>\n",
              "      <td>golf</td>\n",
              "      <td>70,000km</td>\n",
              "      <td>7</td>\n",
              "      <td>benzin</td>\n",
              "      <td>volkswagen</td>\n",
              "      <td>nein</td>\n",
              "      <td>2016-03-26 00:00:00</td>\n",
              "      <td>0</td>\n",
              "      <td>35394</td>\n",
              "      <td>2016-04-06 20:15:37</td>\n",
              "    </tr>\n",
              "    <tr>\n",
              "      <th>3</th>\n",
              "      <td>2016-03-12 16:58:10</td>\n",
              "      <td>Smart_smart_fortwo_coupe_softouch/F1/Klima/Pan...</td>\n",
              "      <td>privat</td>\n",
              "      <td>Angebot</td>\n",
              "      <td>$4,350</td>\n",
              "      <td>control</td>\n",
              "      <td>kleinwagen</td>\n",
              "      <td>2007</td>\n",
              "      <td>automatik</td>\n",
              "      <td>71</td>\n",
              "      <td>fortwo</td>\n",
              "      <td>70,000km</td>\n",
              "      <td>6</td>\n",
              "      <td>benzin</td>\n",
              "      <td>smart</td>\n",
              "      <td>nein</td>\n",
              "      <td>2016-03-12 00:00:00</td>\n",
              "      <td>0</td>\n",
              "      <td>33729</td>\n",
              "      <td>2016-03-15 03:16:28</td>\n",
              "    </tr>\n",
              "    <tr>\n",
              "      <th>4</th>\n",
              "      <td>2016-04-01 14:38:50</td>\n",
              "      <td>Ford_Focus_1_6_Benzin_TÜV_neu_ist_sehr_gepfleg...</td>\n",
              "      <td>privat</td>\n",
              "      <td>Angebot</td>\n",
              "      <td>$1,350</td>\n",
              "      <td>test</td>\n",
              "      <td>kombi</td>\n",
              "      <td>2003</td>\n",
              "      <td>manuell</td>\n",
              "      <td>0</td>\n",
              "      <td>focus</td>\n",
              "      <td>150,000km</td>\n",
              "      <td>7</td>\n",
              "      <td>benzin</td>\n",
              "      <td>ford</td>\n",
              "      <td>nein</td>\n",
              "      <td>2016-04-01 00:00:00</td>\n",
              "      <td>0</td>\n",
              "      <td>39218</td>\n",
              "      <td>2016-04-01 14:38:50</td>\n",
              "    </tr>\n",
              "  </tbody>\n",
              "</table>\n",
              "</div>"
            ],
            "text/plain": [
              "           dateCrawled  ...             lastSeen\n",
              "0  2016-03-26 17:47:46  ...  2016-04-06 06:45:54\n",
              "1  2016-04-04 13:38:56  ...  2016-04-06 14:45:08\n",
              "2  2016-03-26 18:57:24  ...  2016-04-06 20:15:37\n",
              "3  2016-03-12 16:58:10  ...  2016-03-15 03:16:28\n",
              "4  2016-04-01 14:38:50  ...  2016-04-01 14:38:50\n",
              "\n",
              "[5 rows x 20 columns]"
            ]
          },
          "metadata": {
            "tags": []
          },
          "execution_count": 30
        }
      ]
    },
    {
      "cell_type": "markdown",
      "metadata": {
        "id": "0gHPJbQ2yA0g",
        "colab_type": "raw"
      },
      "source": [
        "-Notice that the columns names are not consistent: some of the labels contain a mixture of capital letters, lowercase letters and whitespace.The column names use camelcase instead of Python's preferred snakecase. <br> Therefore, the first step will be cleaning the columns labels. <br>\n",
        "-Also notice that the \"name\" column is very lengthy and can be splitted into smaller more meaningful segments. <br>\n",
        "-Also notice that some columns contain null values, yet none has more than ~20% null values. <br>"
      ]
    },
    {
      "cell_type": "markdown",
      "metadata": {
        "id": "W_-b9mOiyA0i",
        "colab_type": "text"
      },
      "source": [
        "# Column names cleaning"
      ]
    },
    {
      "cell_type": "markdown",
      "metadata": {
        "id": "PKgD2VImyA0k",
        "colab_type": "text"
      },
      "source": [
        "-Convert camelcase to snakecase <br>\n",
        "-Reword some columns labels to more meaningful names <br>"
      ]
    },
    {
      "cell_type": "code",
      "metadata": {
        "id": "fUT6Opi9yA0l",
        "colab_type": "code",
        "outputId": "5d8f844e-5347-48cc-e8b5-bee1fbf56dac",
        "colab": {
          "base_uri": "https://localhost:8080/",
          "height": 122
        }
      },
      "source": [
        "#print the columns' labels\n",
        "print(autos.columns)"
      ],
      "execution_count": 0,
      "outputs": [
        {
          "output_type": "stream",
          "text": [
            "Index(['dateCrawled', 'name', 'seller', 'offerType', 'price', 'abtest',\n",
            "       'vehicleType', 'yearOfRegistration', 'gearbox', 'powerPS', 'model',\n",
            "       'odometer', 'monthOfRegistration', 'fuelType', 'brand',\n",
            "       'notRepairedDamage', 'dateCreated', 'nrOfPictures', 'postalCode',\n",
            "       'lastSeen'],\n",
            "      dtype='object')\n"
          ],
          "name": "stdout"
        }
      ]
    },
    {
      "cell_type": "code",
      "metadata": {
        "id": "PVprcUbTyA0u",
        "colab_type": "code",
        "outputId": "8951984a-b4de-4f30-e64c-2a9e9dbfa8c6",
        "colab": {
          "base_uri": "https://localhost:8080/",
          "height": 299
        }
      },
      "source": [
        "autos.columns=['date_crawled', 'name', 'seller', 'offer_type', 'price', 'ab_test',\n",
        "       'vehicle_type', 'registration_year', 'gearbox', 'power_ps', 'model',\n",
        "       'odometer', 'registration_month', 'fuel_type', 'brand',\n",
        "       'unrepaired_damage', 'ad_created', 'num_photos', 'postal_code',\n",
        "       'last_seen']\n",
        "autos.head()"
      ],
      "execution_count": 0,
      "outputs": [
        {
          "output_type": "execute_result",
          "data": {
            "text/html": [
              "<div>\n",
              "<style scoped>\n",
              "    .dataframe tbody tr th:only-of-type {\n",
              "        vertical-align: middle;\n",
              "    }\n",
              "\n",
              "    .dataframe tbody tr th {\n",
              "        vertical-align: top;\n",
              "    }\n",
              "\n",
              "    .dataframe thead th {\n",
              "        text-align: right;\n",
              "    }\n",
              "</style>\n",
              "<table border=\"1\" class=\"dataframe\">\n",
              "  <thead>\n",
              "    <tr style=\"text-align: right;\">\n",
              "      <th></th>\n",
              "      <th>date_crawled</th>\n",
              "      <th>name</th>\n",
              "      <th>seller</th>\n",
              "      <th>offer_type</th>\n",
              "      <th>price</th>\n",
              "      <th>ab_test</th>\n",
              "      <th>vehicle_type</th>\n",
              "      <th>registration_year</th>\n",
              "      <th>gearbox</th>\n",
              "      <th>power_ps</th>\n",
              "      <th>model</th>\n",
              "      <th>odometer</th>\n",
              "      <th>registration_month</th>\n",
              "      <th>fuel_type</th>\n",
              "      <th>brand</th>\n",
              "      <th>unrepaired_damage</th>\n",
              "      <th>ad_created</th>\n",
              "      <th>num_photos</th>\n",
              "      <th>postal_code</th>\n",
              "      <th>last_seen</th>\n",
              "    </tr>\n",
              "  </thead>\n",
              "  <tbody>\n",
              "    <tr>\n",
              "      <th>0</th>\n",
              "      <td>2016-03-26 17:47:46</td>\n",
              "      <td>Peugeot_807_160_NAVTECH_ON_BOARD</td>\n",
              "      <td>privat</td>\n",
              "      <td>Angebot</td>\n",
              "      <td>$5,000</td>\n",
              "      <td>control</td>\n",
              "      <td>bus</td>\n",
              "      <td>2004</td>\n",
              "      <td>manuell</td>\n",
              "      <td>158</td>\n",
              "      <td>andere</td>\n",
              "      <td>150,000km</td>\n",
              "      <td>3</td>\n",
              "      <td>lpg</td>\n",
              "      <td>peugeot</td>\n",
              "      <td>nein</td>\n",
              "      <td>2016-03-26 00:00:00</td>\n",
              "      <td>0</td>\n",
              "      <td>79588</td>\n",
              "      <td>2016-04-06 06:45:54</td>\n",
              "    </tr>\n",
              "    <tr>\n",
              "      <th>1</th>\n",
              "      <td>2016-04-04 13:38:56</td>\n",
              "      <td>BMW_740i_4_4_Liter_HAMANN_UMBAU_Mega_Optik</td>\n",
              "      <td>privat</td>\n",
              "      <td>Angebot</td>\n",
              "      <td>$8,500</td>\n",
              "      <td>control</td>\n",
              "      <td>limousine</td>\n",
              "      <td>1997</td>\n",
              "      <td>automatik</td>\n",
              "      <td>286</td>\n",
              "      <td>7er</td>\n",
              "      <td>150,000km</td>\n",
              "      <td>6</td>\n",
              "      <td>benzin</td>\n",
              "      <td>bmw</td>\n",
              "      <td>nein</td>\n",
              "      <td>2016-04-04 00:00:00</td>\n",
              "      <td>0</td>\n",
              "      <td>71034</td>\n",
              "      <td>2016-04-06 14:45:08</td>\n",
              "    </tr>\n",
              "    <tr>\n",
              "      <th>2</th>\n",
              "      <td>2016-03-26 18:57:24</td>\n",
              "      <td>Volkswagen_Golf_1.6_United</td>\n",
              "      <td>privat</td>\n",
              "      <td>Angebot</td>\n",
              "      <td>$8,990</td>\n",
              "      <td>test</td>\n",
              "      <td>limousine</td>\n",
              "      <td>2009</td>\n",
              "      <td>manuell</td>\n",
              "      <td>102</td>\n",
              "      <td>golf</td>\n",
              "      <td>70,000km</td>\n",
              "      <td>7</td>\n",
              "      <td>benzin</td>\n",
              "      <td>volkswagen</td>\n",
              "      <td>nein</td>\n",
              "      <td>2016-03-26 00:00:00</td>\n",
              "      <td>0</td>\n",
              "      <td>35394</td>\n",
              "      <td>2016-04-06 20:15:37</td>\n",
              "    </tr>\n",
              "    <tr>\n",
              "      <th>3</th>\n",
              "      <td>2016-03-12 16:58:10</td>\n",
              "      <td>Smart_smart_fortwo_coupe_softouch/F1/Klima/Pan...</td>\n",
              "      <td>privat</td>\n",
              "      <td>Angebot</td>\n",
              "      <td>$4,350</td>\n",
              "      <td>control</td>\n",
              "      <td>kleinwagen</td>\n",
              "      <td>2007</td>\n",
              "      <td>automatik</td>\n",
              "      <td>71</td>\n",
              "      <td>fortwo</td>\n",
              "      <td>70,000km</td>\n",
              "      <td>6</td>\n",
              "      <td>benzin</td>\n",
              "      <td>smart</td>\n",
              "      <td>nein</td>\n",
              "      <td>2016-03-12 00:00:00</td>\n",
              "      <td>0</td>\n",
              "      <td>33729</td>\n",
              "      <td>2016-03-15 03:16:28</td>\n",
              "    </tr>\n",
              "    <tr>\n",
              "      <th>4</th>\n",
              "      <td>2016-04-01 14:38:50</td>\n",
              "      <td>Ford_Focus_1_6_Benzin_TÜV_neu_ist_sehr_gepfleg...</td>\n",
              "      <td>privat</td>\n",
              "      <td>Angebot</td>\n",
              "      <td>$1,350</td>\n",
              "      <td>test</td>\n",
              "      <td>kombi</td>\n",
              "      <td>2003</td>\n",
              "      <td>manuell</td>\n",
              "      <td>0</td>\n",
              "      <td>focus</td>\n",
              "      <td>150,000km</td>\n",
              "      <td>7</td>\n",
              "      <td>benzin</td>\n",
              "      <td>ford</td>\n",
              "      <td>nein</td>\n",
              "      <td>2016-04-01 00:00:00</td>\n",
              "      <td>0</td>\n",
              "      <td>39218</td>\n",
              "      <td>2016-04-01 14:38:50</td>\n",
              "    </tr>\n",
              "  </tbody>\n",
              "</table>\n",
              "</div>"
            ],
            "text/plain": [
              "          date_crawled  ...            last_seen\n",
              "0  2016-03-26 17:47:46  ...  2016-04-06 06:45:54\n",
              "1  2016-04-04 13:38:56  ...  2016-04-06 14:45:08\n",
              "2  2016-03-26 18:57:24  ...  2016-04-06 20:15:37\n",
              "3  2016-03-12 16:58:10  ...  2016-03-15 03:16:28\n",
              "4  2016-04-01 14:38:50  ...  2016-04-01 14:38:50\n",
              "\n",
              "[5 rows x 20 columns]"
            ]
          },
          "metadata": {
            "tags": []
          },
          "execution_count": 32
        }
      ]
    },
    {
      "cell_type": "code",
      "metadata": {
        "id": "BvIiFsUMyA01",
        "colab_type": "code",
        "outputId": "1713dc6f-7d22-4e0c-b01c-f58612499f3a",
        "colab": {
          "base_uri": "https://localhost:8080/",
          "height": 410
        }
      },
      "source": [
        "#look at descriptive statistics for all columns \n",
        "autos.describe(include=\"all\")"
      ],
      "execution_count": 0,
      "outputs": [
        {
          "output_type": "execute_result",
          "data": {
            "text/html": [
              "<div>\n",
              "<style scoped>\n",
              "    .dataframe tbody tr th:only-of-type {\n",
              "        vertical-align: middle;\n",
              "    }\n",
              "\n",
              "    .dataframe tbody tr th {\n",
              "        vertical-align: top;\n",
              "    }\n",
              "\n",
              "    .dataframe thead th {\n",
              "        text-align: right;\n",
              "    }\n",
              "</style>\n",
              "<table border=\"1\" class=\"dataframe\">\n",
              "  <thead>\n",
              "    <tr style=\"text-align: right;\">\n",
              "      <th></th>\n",
              "      <th>date_crawled</th>\n",
              "      <th>name</th>\n",
              "      <th>seller</th>\n",
              "      <th>offer_type</th>\n",
              "      <th>price</th>\n",
              "      <th>ab_test</th>\n",
              "      <th>vehicle_type</th>\n",
              "      <th>registration_year</th>\n",
              "      <th>gearbox</th>\n",
              "      <th>power_ps</th>\n",
              "      <th>model</th>\n",
              "      <th>odometer</th>\n",
              "      <th>registration_month</th>\n",
              "      <th>fuel_type</th>\n",
              "      <th>brand</th>\n",
              "      <th>unrepaired_damage</th>\n",
              "      <th>ad_created</th>\n",
              "      <th>num_photos</th>\n",
              "      <th>postal_code</th>\n",
              "      <th>last_seen</th>\n",
              "    </tr>\n",
              "  </thead>\n",
              "  <tbody>\n",
              "    <tr>\n",
              "      <th>count</th>\n",
              "      <td>50000</td>\n",
              "      <td>50000</td>\n",
              "      <td>50000</td>\n",
              "      <td>50000</td>\n",
              "      <td>50000</td>\n",
              "      <td>50000</td>\n",
              "      <td>44905</td>\n",
              "      <td>50000.000000</td>\n",
              "      <td>47320</td>\n",
              "      <td>50000.000000</td>\n",
              "      <td>47242</td>\n",
              "      <td>50000</td>\n",
              "      <td>50000.000000</td>\n",
              "      <td>45518</td>\n",
              "      <td>50000</td>\n",
              "      <td>40171</td>\n",
              "      <td>50000</td>\n",
              "      <td>50000.0</td>\n",
              "      <td>50000.000000</td>\n",
              "      <td>50000</td>\n",
              "    </tr>\n",
              "    <tr>\n",
              "      <th>unique</th>\n",
              "      <td>48213</td>\n",
              "      <td>38754</td>\n",
              "      <td>2</td>\n",
              "      <td>2</td>\n",
              "      <td>2357</td>\n",
              "      <td>2</td>\n",
              "      <td>8</td>\n",
              "      <td>NaN</td>\n",
              "      <td>2</td>\n",
              "      <td>NaN</td>\n",
              "      <td>245</td>\n",
              "      <td>13</td>\n",
              "      <td>NaN</td>\n",
              "      <td>7</td>\n",
              "      <td>40</td>\n",
              "      <td>2</td>\n",
              "      <td>76</td>\n",
              "      <td>NaN</td>\n",
              "      <td>NaN</td>\n",
              "      <td>39481</td>\n",
              "    </tr>\n",
              "    <tr>\n",
              "      <th>top</th>\n",
              "      <td>2016-03-30 17:37:35</td>\n",
              "      <td>Ford_Fiesta</td>\n",
              "      <td>privat</td>\n",
              "      <td>Angebot</td>\n",
              "      <td>$0</td>\n",
              "      <td>test</td>\n",
              "      <td>limousine</td>\n",
              "      <td>NaN</td>\n",
              "      <td>manuell</td>\n",
              "      <td>NaN</td>\n",
              "      <td>golf</td>\n",
              "      <td>150,000km</td>\n",
              "      <td>NaN</td>\n",
              "      <td>benzin</td>\n",
              "      <td>volkswagen</td>\n",
              "      <td>nein</td>\n",
              "      <td>2016-04-03 00:00:00</td>\n",
              "      <td>NaN</td>\n",
              "      <td>NaN</td>\n",
              "      <td>2016-04-07 06:17:27</td>\n",
              "    </tr>\n",
              "    <tr>\n",
              "      <th>freq</th>\n",
              "      <td>3</td>\n",
              "      <td>78</td>\n",
              "      <td>49999</td>\n",
              "      <td>49999</td>\n",
              "      <td>1421</td>\n",
              "      <td>25756</td>\n",
              "      <td>12859</td>\n",
              "      <td>NaN</td>\n",
              "      <td>36993</td>\n",
              "      <td>NaN</td>\n",
              "      <td>4024</td>\n",
              "      <td>32424</td>\n",
              "      <td>NaN</td>\n",
              "      <td>30107</td>\n",
              "      <td>10687</td>\n",
              "      <td>35232</td>\n",
              "      <td>1946</td>\n",
              "      <td>NaN</td>\n",
              "      <td>NaN</td>\n",
              "      <td>8</td>\n",
              "    </tr>\n",
              "    <tr>\n",
              "      <th>mean</th>\n",
              "      <td>NaN</td>\n",
              "      <td>NaN</td>\n",
              "      <td>NaN</td>\n",
              "      <td>NaN</td>\n",
              "      <td>NaN</td>\n",
              "      <td>NaN</td>\n",
              "      <td>NaN</td>\n",
              "      <td>2005.073280</td>\n",
              "      <td>NaN</td>\n",
              "      <td>116.355920</td>\n",
              "      <td>NaN</td>\n",
              "      <td>NaN</td>\n",
              "      <td>5.723360</td>\n",
              "      <td>NaN</td>\n",
              "      <td>NaN</td>\n",
              "      <td>NaN</td>\n",
              "      <td>NaN</td>\n",
              "      <td>0.0</td>\n",
              "      <td>50813.627300</td>\n",
              "      <td>NaN</td>\n",
              "    </tr>\n",
              "    <tr>\n",
              "      <th>std</th>\n",
              "      <td>NaN</td>\n",
              "      <td>NaN</td>\n",
              "      <td>NaN</td>\n",
              "      <td>NaN</td>\n",
              "      <td>NaN</td>\n",
              "      <td>NaN</td>\n",
              "      <td>NaN</td>\n",
              "      <td>105.712813</td>\n",
              "      <td>NaN</td>\n",
              "      <td>209.216627</td>\n",
              "      <td>NaN</td>\n",
              "      <td>NaN</td>\n",
              "      <td>3.711984</td>\n",
              "      <td>NaN</td>\n",
              "      <td>NaN</td>\n",
              "      <td>NaN</td>\n",
              "      <td>NaN</td>\n",
              "      <td>0.0</td>\n",
              "      <td>25779.747957</td>\n",
              "      <td>NaN</td>\n",
              "    </tr>\n",
              "    <tr>\n",
              "      <th>min</th>\n",
              "      <td>NaN</td>\n",
              "      <td>NaN</td>\n",
              "      <td>NaN</td>\n",
              "      <td>NaN</td>\n",
              "      <td>NaN</td>\n",
              "      <td>NaN</td>\n",
              "      <td>NaN</td>\n",
              "      <td>1000.000000</td>\n",
              "      <td>NaN</td>\n",
              "      <td>0.000000</td>\n",
              "      <td>NaN</td>\n",
              "      <td>NaN</td>\n",
              "      <td>0.000000</td>\n",
              "      <td>NaN</td>\n",
              "      <td>NaN</td>\n",
              "      <td>NaN</td>\n",
              "      <td>NaN</td>\n",
              "      <td>0.0</td>\n",
              "      <td>1067.000000</td>\n",
              "      <td>NaN</td>\n",
              "    </tr>\n",
              "    <tr>\n",
              "      <th>25%</th>\n",
              "      <td>NaN</td>\n",
              "      <td>NaN</td>\n",
              "      <td>NaN</td>\n",
              "      <td>NaN</td>\n",
              "      <td>NaN</td>\n",
              "      <td>NaN</td>\n",
              "      <td>NaN</td>\n",
              "      <td>1999.000000</td>\n",
              "      <td>NaN</td>\n",
              "      <td>70.000000</td>\n",
              "      <td>NaN</td>\n",
              "      <td>NaN</td>\n",
              "      <td>3.000000</td>\n",
              "      <td>NaN</td>\n",
              "      <td>NaN</td>\n",
              "      <td>NaN</td>\n",
              "      <td>NaN</td>\n",
              "      <td>0.0</td>\n",
              "      <td>30451.000000</td>\n",
              "      <td>NaN</td>\n",
              "    </tr>\n",
              "    <tr>\n",
              "      <th>50%</th>\n",
              "      <td>NaN</td>\n",
              "      <td>NaN</td>\n",
              "      <td>NaN</td>\n",
              "      <td>NaN</td>\n",
              "      <td>NaN</td>\n",
              "      <td>NaN</td>\n",
              "      <td>NaN</td>\n",
              "      <td>2003.000000</td>\n",
              "      <td>NaN</td>\n",
              "      <td>105.000000</td>\n",
              "      <td>NaN</td>\n",
              "      <td>NaN</td>\n",
              "      <td>6.000000</td>\n",
              "      <td>NaN</td>\n",
              "      <td>NaN</td>\n",
              "      <td>NaN</td>\n",
              "      <td>NaN</td>\n",
              "      <td>0.0</td>\n",
              "      <td>49577.000000</td>\n",
              "      <td>NaN</td>\n",
              "    </tr>\n",
              "    <tr>\n",
              "      <th>75%</th>\n",
              "      <td>NaN</td>\n",
              "      <td>NaN</td>\n",
              "      <td>NaN</td>\n",
              "      <td>NaN</td>\n",
              "      <td>NaN</td>\n",
              "      <td>NaN</td>\n",
              "      <td>NaN</td>\n",
              "      <td>2008.000000</td>\n",
              "      <td>NaN</td>\n",
              "      <td>150.000000</td>\n",
              "      <td>NaN</td>\n",
              "      <td>NaN</td>\n",
              "      <td>9.000000</td>\n",
              "      <td>NaN</td>\n",
              "      <td>NaN</td>\n",
              "      <td>NaN</td>\n",
              "      <td>NaN</td>\n",
              "      <td>0.0</td>\n",
              "      <td>71540.000000</td>\n",
              "      <td>NaN</td>\n",
              "    </tr>\n",
              "    <tr>\n",
              "      <th>max</th>\n",
              "      <td>NaN</td>\n",
              "      <td>NaN</td>\n",
              "      <td>NaN</td>\n",
              "      <td>NaN</td>\n",
              "      <td>NaN</td>\n",
              "      <td>NaN</td>\n",
              "      <td>NaN</td>\n",
              "      <td>9999.000000</td>\n",
              "      <td>NaN</td>\n",
              "      <td>17700.000000</td>\n",
              "      <td>NaN</td>\n",
              "      <td>NaN</td>\n",
              "      <td>12.000000</td>\n",
              "      <td>NaN</td>\n",
              "      <td>NaN</td>\n",
              "      <td>NaN</td>\n",
              "      <td>NaN</td>\n",
              "      <td>0.0</td>\n",
              "      <td>99998.000000</td>\n",
              "      <td>NaN</td>\n",
              "    </tr>\n",
              "  </tbody>\n",
              "</table>\n",
              "</div>"
            ],
            "text/plain": [
              "               date_crawled         name  ...   postal_code            last_seen\n",
              "count                 50000        50000  ...  50000.000000                50000\n",
              "unique                48213        38754  ...           NaN                39481\n",
              "top     2016-03-30 17:37:35  Ford_Fiesta  ...           NaN  2016-04-07 06:17:27\n",
              "freq                      3           78  ...           NaN                    8\n",
              "mean                    NaN          NaN  ...  50813.627300                  NaN\n",
              "std                     NaN          NaN  ...  25779.747957                  NaN\n",
              "min                     NaN          NaN  ...   1067.000000                  NaN\n",
              "25%                     NaN          NaN  ...  30451.000000                  NaN\n",
              "50%                     NaN          NaN  ...  49577.000000                  NaN\n",
              "75%                     NaN          NaN  ...  71540.000000                  NaN\n",
              "max                     NaN          NaN  ...  99998.000000                  NaN\n",
              "\n",
              "[11 rows x 20 columns]"
            ]
          },
          "metadata": {
            "tags": []
          },
          "execution_count": 33
        }
      ]
    },
    {
      "cell_type": "markdown",
      "metadata": {
        "id": "Faui6CGLyA09",
        "colab_type": "text"
      },
      "source": [
        "Notice the following: <br>\n",
        "- the \"seller\", \"offer type\", \"ab_test\",\"gearbox\" and \"unrepaired_damage\" colunms contain each only two values, making them candidates to be dropped. <br>\n",
        "- The \"num_photos\" have no unique values and all the values are zeros, making it another candidate to be dropped.\n",
        "- The \"registration_year\" and \"power_ps\" columns need to be investigated further becuase they seem to have abnormal maximum values. <br>\n",
        "- The \"price\" and \"odometer: columns are numeric values stored as text. <br>"
      ]
    },
    {
      "cell_type": "markdown",
      "metadata": {
        "id": "omYCcNJnyA0-",
        "colab_type": "text"
      },
      "source": [
        "# Cleaning \"price\" and \"odometer\" columns\n",
        "- Remove any non-numeric characters. <br>\n",
        "- Convert the column to a numeric dtype. <br>\n",
        "- Rename the column to odometer_km. <br>"
      ]
    },
    {
      "cell_type": "code",
      "metadata": {
        "id": "F6I7LJjZyA1A",
        "colab_type": "code",
        "outputId": "60e55ce0-fa6f-4aeb-dabe-2f43ead044c2",
        "colab": {
          "base_uri": "https://localhost:8080/",
          "height": 122
        }
      },
      "source": [
        "autos[\"odometer\"]=(autos[\"odometer\"].str.replace(\"km\",\"\")\n",
        "                                     .str.replace(\",\",\"\")\n",
        "                                     .astype(int))\n",
        "autos[\"odometer\"].head()"
      ],
      "execution_count": 0,
      "outputs": [
        {
          "output_type": "execute_result",
          "data": {
            "text/plain": [
              "0    150000\n",
              "1    150000\n",
              "2     70000\n",
              "3     70000\n",
              "4    150000\n",
              "Name: odometer, dtype: int64"
            ]
          },
          "metadata": {
            "tags": []
          },
          "execution_count": 34
        }
      ]
    },
    {
      "cell_type": "code",
      "metadata": {
        "id": "RWsq7anlyA1I",
        "colab_type": "code",
        "outputId": "9d19a36b-65f3-4cc7-ad34-153b37a34821",
        "colab": {
          "base_uri": "https://localhost:8080/",
          "height": 122
        }
      },
      "source": [
        "autos.rename(columns={\"odometer\":\"odometer_km\"},inplace=True)\n",
        "autos[\"odometer_km\"].head()"
      ],
      "execution_count": 0,
      "outputs": [
        {
          "output_type": "execute_result",
          "data": {
            "text/plain": [
              "0    150000\n",
              "1    150000\n",
              "2     70000\n",
              "3     70000\n",
              "4    150000\n",
              "Name: odometer_km, dtype: int64"
            ]
          },
          "metadata": {
            "tags": []
          },
          "execution_count": 35
        }
      ]
    },
    {
      "cell_type": "code",
      "metadata": {
        "id": "fWspMyB_yA1P",
        "colab_type": "code",
        "outputId": "cbcc049b-1441-4021-b5f4-cb4f856f5aae",
        "colab": {
          "base_uri": "https://localhost:8080/",
          "height": 122
        }
      },
      "source": [
        "autos[\"price\"]=(autos[\"price\"].str.replace(\"$\",\"\")\n",
        "                                     .str.replace(\",\",\"\")\n",
        "                                     .astype(int))\n",
        "autos[\"price\"].head()"
      ],
      "execution_count": 0,
      "outputs": [
        {
          "output_type": "execute_result",
          "data": {
            "text/plain": [
              "0    5000\n",
              "1    8500\n",
              "2    8990\n",
              "3    4350\n",
              "4    1350\n",
              "Name: price, dtype: int64"
            ]
          },
          "metadata": {
            "tags": []
          },
          "execution_count": 36
        }
      ]
    },
    {
      "cell_type": "markdown",
      "metadata": {
        "id": "FT6BAzwJyA1W",
        "colab_type": "text"
      },
      "source": [
        "## Further Analysis of the \"odometer_km\" and \"price\" column "
      ]
    },
    {
      "cell_type": "markdown",
      "metadata": {
        "id": "D7EQJ7vfyA1Y",
        "colab_type": "text"
      },
      "source": [
        "We will:\n",
        "- Analyze the columns using minimum and maximum values \n",
        "- Look for any values that look unrealistically high or low (outliers) that we might want to remove."
      ]
    },
    {
      "cell_type": "code",
      "metadata": {
        "id": "uGv9rPiYyA1a",
        "colab_type": "code",
        "outputId": "4601704c-77b7-4348-9b95-d78b474221bb",
        "colab": {
          "base_uri": "https://localhost:8080/"
        }
      },
      "source": [
        "#first check how many unique values are in the \"price\" column\n",
        "autos[\"price\"].unique().shape[0]"
      ],
      "execution_count": 0,
      "outputs": [
        {
          "output_type": "execute_result",
          "data": {
            "text/plain": [
              "2357"
            ]
          },
          "metadata": {
            "tags": []
          },
          "execution_count": 37
        }
      ]
    },
    {
      "cell_type": "code",
      "metadata": {
        "id": "ib5EkgAEyA1g",
        "colab_type": "code",
        "outputId": "a05f1067-6e57-4f5e-caf5-f8d321998af3",
        "colab": {
          "base_uri": "https://localhost:8080/"
        }
      },
      "source": [
        "#and in the \"odometer_km\" column as well\n",
        "autos[\"odometer_km\"].unique().shape[0]"
      ],
      "execution_count": 0,
      "outputs": [
        {
          "output_type": "execute_result",
          "data": {
            "text/plain": [
              "13"
            ]
          },
          "metadata": {
            "tags": []
          },
          "execution_count": 38
        }
      ]
    },
    {
      "cell_type": "code",
      "metadata": {
        "id": "8qf-OLb-yA1n",
        "colab_type": "code",
        "outputId": "b2c56c73-aa82-4897-d043-b4f01c8a01bd",
        "colab": {
          "base_uri": "https://localhost:8080/"
        }
      },
      "source": [
        "#now check for the counts of each unique value in the \"price\" column in ascending order\n",
        "autos[\"price\"].value_counts().sort_index(ascending=True).head(20)"
      ],
      "execution_count": 0,
      "outputs": [
        {
          "output_type": "execute_result",
          "data": {
            "text/plain": [
              "0     1421\n",
              "1      156\n",
              "2        3\n",
              "3        1\n",
              "5        2\n",
              "8        1\n",
              "9        1\n",
              "10       7\n",
              "11       2\n",
              "12       3\n",
              "13       2\n",
              "14       1\n",
              "15       2\n",
              "17       3\n",
              "18       1\n",
              "20       4\n",
              "25       5\n",
              "29       1\n",
              "30       7\n",
              "35       1\n",
              "Name: price, dtype: int64"
            ]
          },
          "metadata": {
            "tags": []
          },
          "execution_count": 39
        }
      ]
    },
    {
      "cell_type": "code",
      "metadata": {
        "id": "xNjvzFPIyA1v",
        "colab_type": "code",
        "outputId": "2fffe766-361d-454e-f1ee-35b28cf6a56a",
        "colab": {
          "base_uri": "https://localhost:8080/"
        }
      },
      "source": [
        "#now check for the counts of each unique value in the \"price\" column in descending order\n",
        "autos[\"price\"].value_counts().sort_index(ascending=False).head(20)"
      ],
      "execution_count": 0,
      "outputs": [
        {
          "output_type": "execute_result",
          "data": {
            "text/plain": [
              "99999999    1\n",
              "27322222    1\n",
              "12345678    3\n",
              "11111111    2\n",
              "10000000    1\n",
              "3890000     1\n",
              "1300000     1\n",
              "1234566     1\n",
              "999999      2\n",
              "999990      1\n",
              "350000      1\n",
              "345000      1\n",
              "299000      1\n",
              "295000      1\n",
              "265000      1\n",
              "259000      1\n",
              "250000      1\n",
              "220000      1\n",
              "198000      1\n",
              "197000      1\n",
              "Name: price, dtype: int64"
            ]
          },
          "metadata": {
            "tags": []
          },
          "execution_count": 40
        }
      ]
    },
    {
      "cell_type": "markdown",
      "metadata": {
        "id": "rw5LFJ9hyA14",
        "colab_type": "text"
      },
      "source": [
        "- We notice that there are unrealistic car prices that we need to investigate. The prices increases steadily from 0 till 350000, then after 350000 the price jump to 999990. <br>\n",
        "- We will remove the entries with prices higher than 350000 or prices equal to 0"
      ]
    },
    {
      "cell_type": "code",
      "metadata": {
        "id": "bBbVUM8iyA16",
        "colab_type": "code",
        "outputId": "e4c2df5a-eb5c-40fc-8ba8-8b7d16f54794",
        "colab": {
          "base_uri": "https://localhost:8080/"
        }
      },
      "source": [
        "autos=autos[autos[\"price\"].between(1,350001)]\n",
        "autos[\"price\"].value_counts().sort_index(ascending=False).head(20)"
      ],
      "execution_count": 0,
      "outputs": [
        {
          "output_type": "execute_result",
          "data": {
            "text/plain": [
              "350000    1\n",
              "345000    1\n",
              "299000    1\n",
              "295000    1\n",
              "265000    1\n",
              "259000    1\n",
              "250000    1\n",
              "220000    1\n",
              "198000    1\n",
              "197000    1\n",
              "194000    1\n",
              "190000    1\n",
              "180000    1\n",
              "175000    1\n",
              "169999    1\n",
              "169000    1\n",
              "163991    1\n",
              "163500    1\n",
              "155000    1\n",
              "151990    1\n",
              "Name: price, dtype: int64"
            ]
          },
          "metadata": {
            "tags": []
          },
          "execution_count": 41
        }
      ]
    },
    {
      "cell_type": "code",
      "metadata": {
        "id": "Ipbem-OJyA2C",
        "colab_type": "code",
        "outputId": "64be4ae0-6d09-4702-cb71-f56bba7b9488",
        "colab": {
          "base_uri": "https://localhost:8080/"
        }
      },
      "source": [
        "#now check for the counts of each unique value in the \"odometer_km\" column in ascending order\n",
        "autos[\"odometer_km\"].value_counts().sort_index(ascending=False).head(20)"
      ],
      "execution_count": 0,
      "outputs": [
        {
          "output_type": "execute_result",
          "data": {
            "text/plain": [
              "150000    31414\n",
              "125000     5057\n",
              "100000     2115\n",
              "90000      1734\n",
              "80000      1415\n",
              "70000      1217\n",
              "60000      1155\n",
              "50000      1012\n",
              "40000       815\n",
              "30000       780\n",
              "20000       762\n",
              "10000       253\n",
              "5000        836\n",
              "Name: odometer_km, dtype: int64"
            ]
          },
          "metadata": {
            "tags": []
          },
          "execution_count": 42
        }
      ]
    },
    {
      "cell_type": "markdown",
      "metadata": {
        "id": "C5BqL1-WyA2I",
        "colab_type": "text"
      },
      "source": [
        "# Exploring the date columns"
      ]
    },
    {
      "cell_type": "code",
      "metadata": {
        "id": "JjL0TRYnyA2J",
        "colab_type": "code",
        "outputId": "bed43663-7911-46f5-e5cf-72aa525e9d70",
        "colab": {
          "base_uri": "https://localhost:8080/",
          "height": 195
        }
      },
      "source": [
        "#first we need to understand how the values in the three string columns are formatted.\n",
        "autos[['date_crawled','ad_created','last_seen']][0:5]"
      ],
      "execution_count": 0,
      "outputs": [
        {
          "output_type": "execute_result",
          "data": {
            "text/html": [
              "<div>\n",
              "<style scoped>\n",
              "    .dataframe tbody tr th:only-of-type {\n",
              "        vertical-align: middle;\n",
              "    }\n",
              "\n",
              "    .dataframe tbody tr th {\n",
              "        vertical-align: top;\n",
              "    }\n",
              "\n",
              "    .dataframe thead th {\n",
              "        text-align: right;\n",
              "    }\n",
              "</style>\n",
              "<table border=\"1\" class=\"dataframe\">\n",
              "  <thead>\n",
              "    <tr style=\"text-align: right;\">\n",
              "      <th></th>\n",
              "      <th>date_crawled</th>\n",
              "      <th>ad_created</th>\n",
              "      <th>last_seen</th>\n",
              "    </tr>\n",
              "  </thead>\n",
              "  <tbody>\n",
              "    <tr>\n",
              "      <th>0</th>\n",
              "      <td>2016-03-26 17:47:46</td>\n",
              "      <td>2016-03-26 00:00:00</td>\n",
              "      <td>2016-04-06 06:45:54</td>\n",
              "    </tr>\n",
              "    <tr>\n",
              "      <th>1</th>\n",
              "      <td>2016-04-04 13:38:56</td>\n",
              "      <td>2016-04-04 00:00:00</td>\n",
              "      <td>2016-04-06 14:45:08</td>\n",
              "    </tr>\n",
              "    <tr>\n",
              "      <th>2</th>\n",
              "      <td>2016-03-26 18:57:24</td>\n",
              "      <td>2016-03-26 00:00:00</td>\n",
              "      <td>2016-04-06 20:15:37</td>\n",
              "    </tr>\n",
              "    <tr>\n",
              "      <th>3</th>\n",
              "      <td>2016-03-12 16:58:10</td>\n",
              "      <td>2016-03-12 00:00:00</td>\n",
              "      <td>2016-03-15 03:16:28</td>\n",
              "    </tr>\n",
              "    <tr>\n",
              "      <th>4</th>\n",
              "      <td>2016-04-01 14:38:50</td>\n",
              "      <td>2016-04-01 00:00:00</td>\n",
              "      <td>2016-04-01 14:38:50</td>\n",
              "    </tr>\n",
              "  </tbody>\n",
              "</table>\n",
              "</div>"
            ],
            "text/plain": [
              "          date_crawled           ad_created            last_seen\n",
              "0  2016-03-26 17:47:46  2016-03-26 00:00:00  2016-04-06 06:45:54\n",
              "1  2016-04-04 13:38:56  2016-04-04 00:00:00  2016-04-06 14:45:08\n",
              "2  2016-03-26 18:57:24  2016-03-26 00:00:00  2016-04-06 20:15:37\n",
              "3  2016-03-12 16:58:10  2016-03-12 00:00:00  2016-03-15 03:16:28\n",
              "4  2016-04-01 14:38:50  2016-04-01 00:00:00  2016-04-01 14:38:50"
            ]
          },
          "metadata": {
            "tags": []
          },
          "execution_count": 43
        }
      ]
    },
    {
      "cell_type": "markdown",
      "metadata": {
        "id": "cKRrhlMIyA2P",
        "colab_type": "text"
      },
      "source": [
        "We note that these columns all represent full timestamp values"
      ]
    },
    {
      "cell_type": "markdown",
      "metadata": {
        "id": "MOvrSoU6yA2Q",
        "colab_type": "text"
      },
      "source": [
        "Now, we will calculate the distribution of values in the \"date_crawled\", \"ad_created\" and \"last_seen\" columns as percentages"
      ]
    },
    {
      "cell_type": "code",
      "metadata": {
        "id": "pwbz7SvdyA2R",
        "colab_type": "code",
        "outputId": "10a91c95-ca7c-4701-803c-b6a5f4d734f9",
        "colab": {
          "base_uri": "https://localhost:8080/",
          "height": 633
        }
      },
      "source": [
        "#we start by the \"date_crawled\" column\n",
        "(autos[\"date_crawled\"].str[:10]\n",
        "                      .value_counts(normalize=True,dropna=False)\n",
        "                      .sort_index()\n",
        "                      *100)"
      ],
      "execution_count": 0,
      "outputs": [
        {
          "output_type": "execute_result",
          "data": {
            "text/plain": [
              "2016-03-05    2.532688\n",
              "2016-03-06    1.404304\n",
              "2016-03-07    3.601359\n",
              "2016-03-08    3.329558\n",
              "2016-03-09    3.308967\n",
              "2016-03-10    3.218367\n",
              "2016-03-11    3.257490\n",
              "2016-03-12    3.691959\n",
              "2016-03-13    1.566972\n",
              "2016-03-14    3.654896\n",
              "2016-03-15    3.428395\n",
              "2016-03-16    2.960980\n",
              "2016-03-17    3.162772\n",
              "2016-03-18    1.291053\n",
              "2016-03-19    3.477813\n",
              "2016-03-20    3.788737\n",
              "2016-03-21    3.737259\n",
              "2016-03-22    3.298672\n",
              "2016-03-23    3.222485\n",
              "2016-03-24    2.934212\n",
              "2016-03-25    3.160712\n",
              "2016-03-26    3.220426\n",
              "2016-03-27    3.109235\n",
              "2016-03-28    3.486050\n",
              "2016-03-29    3.409863\n",
              "2016-03-30    3.368681\n",
              "2016-03-31    3.183363\n",
              "2016-04-01    3.368681\n",
              "2016-04-02    3.547823\n",
              "2016-04-03    3.860805\n",
              "2016-04-04    3.648718\n",
              "2016-04-05    1.309585\n",
              "2016-04-06    0.317101\n",
              "2016-04-07    0.140019\n",
              "Name: date_crawled, dtype: float64"
            ]
          },
          "metadata": {
            "tags": []
          },
          "execution_count": 44
        }
      ]
    },
    {
      "cell_type": "code",
      "metadata": {
        "id": "lWvEj8LsyA2X",
        "colab_type": "code",
        "outputId": "409aee56-e267-479f-d87e-0103c97aca11",
        "colab": {
          "base_uri": "https://localhost:8080/",
          "height": 633
        }
      },
      "source": [
        "(autos[\"date_crawled\"].str[:10]\n",
        "                      .value_counts(normalize=True,dropna=False)\n",
        "                      .sort_values()\n",
        "                      *100)"
      ],
      "execution_count": 0,
      "outputs": [
        {
          "output_type": "execute_result",
          "data": {
            "text/plain": [
              "2016-04-07    0.140019\n",
              "2016-04-06    0.317101\n",
              "2016-03-18    1.291053\n",
              "2016-04-05    1.309585\n",
              "2016-03-06    1.404304\n",
              "2016-03-13    1.566972\n",
              "2016-03-05    2.532688\n",
              "2016-03-24    2.934212\n",
              "2016-03-16    2.960980\n",
              "2016-03-27    3.109235\n",
              "2016-03-25    3.160712\n",
              "2016-03-17    3.162772\n",
              "2016-03-31    3.183363\n",
              "2016-03-10    3.218367\n",
              "2016-03-26    3.220426\n",
              "2016-03-23    3.222485\n",
              "2016-03-11    3.257490\n",
              "2016-03-22    3.298672\n",
              "2016-03-09    3.308967\n",
              "2016-03-08    3.329558\n",
              "2016-03-30    3.368681\n",
              "2016-04-01    3.368681\n",
              "2016-03-29    3.409863\n",
              "2016-03-15    3.428395\n",
              "2016-03-19    3.477813\n",
              "2016-03-28    3.486050\n",
              "2016-04-02    3.547823\n",
              "2016-03-07    3.601359\n",
              "2016-04-04    3.648718\n",
              "2016-03-14    3.654896\n",
              "2016-03-12    3.691959\n",
              "2016-03-21    3.737259\n",
              "2016-03-20    3.788737\n",
              "2016-04-03    3.860805\n",
              "Name: date_crawled, dtype: float64"
            ]
          },
          "metadata": {
            "tags": []
          },
          "execution_count": 45
        }
      ]
    },
    {
      "cell_type": "markdown",
      "metadata": {
        "id": "-tSh5Eg8yA2c",
        "colab_type": "text"
      },
      "source": [
        "We note that the site was crawled daily over a one month period in March and April 2016. "
      ]
    },
    {
      "cell_type": "code",
      "metadata": {
        "id": "j2s17XCzyA2d",
        "colab_type": "code",
        "outputId": "a5969712-8800-465f-c10c-8c7c63c88c6f",
        "colab": {
          "base_uri": "https://localhost:8080/",
          "height": 633
        }
      },
      "source": [
        "#Then the \"last_seen\" column\n",
        "(autos[\"last_seen\"].str[:10]\n",
        "                      .value_counts(normalize=True,dropna=False)\n",
        "                      .sort_index()\n",
        "                      *100)"
      ],
      "execution_count": 0,
      "outputs": [
        {
          "output_type": "execute_result",
          "data": {
            "text/plain": [
              "2016-03-05     0.107073\n",
              "2016-03-06     0.432410\n",
              "2016-03-07     0.539483\n",
              "2016-03-08     0.741275\n",
              "2016-03-09     0.959539\n",
              "2016-03-10     1.066612\n",
              "2016-03-11     1.237517\n",
              "2016-03-12     2.378256\n",
              "2016-03-13     0.889529\n",
              "2016-03-14     1.260167\n",
              "2016-03-15     1.587563\n",
              "2016-03-16     1.645218\n",
              "2016-03-17     2.808607\n",
              "2016-03-18     0.735097\n",
              "2016-03-19     1.583445\n",
              "2016-03-20     2.065273\n",
              "2016-03-21     2.063214\n",
              "2016-03-22     2.137342\n",
              "2016-03-23     1.853186\n",
              "2016-03-24     1.976732\n",
              "2016-03-25     1.921137\n",
              "2016-03-26     1.680222\n",
              "2016-03-27     1.564913\n",
              "2016-03-28     2.085864\n",
              "2016-03-29     2.234119\n",
              "2016-03-30     2.477093\n",
              "2016-03-31     2.378256\n",
              "2016-04-01     2.279419\n",
              "2016-04-02     2.491506\n",
              "2016-04-03     2.520334\n",
              "2016-04-04     2.448265\n",
              "2016-04-05    12.476063\n",
              "2016-04-06    22.180583\n",
              "2016-04-07    13.194688\n",
              "Name: last_seen, dtype: float64"
            ]
          },
          "metadata": {
            "tags": []
          },
          "execution_count": 46
        }
      ]
    },
    {
      "cell_type": "markdown",
      "metadata": {
        "id": "dtdxfNccyA2h",
        "colab_type": "text"
      },
      "source": [
        "We note that in the last three days of the crawling period, the last_seen percentages witness a spike, which might be an indication that there had been a huge volume of sales happening in these last three days. However, it is more likely that it is indication of the ending of the crawling period rather than an increase in the sales."
      ]
    },
    {
      "cell_type": "code",
      "metadata": {
        "id": "_2YrZsdVyA2i",
        "colab_type": "code",
        "outputId": "e7ad1e9e-6669-4003-f8ee-051de4be9035",
        "colab": {
          "base_uri": "https://localhost:8080/",
          "height": 1108
        }
      },
      "source": [
        "#Then the \"ad_created\" column\n",
        "(autos[\"ad_created\"].str[:10]\n",
        "                      .value_counts(normalize=True,dropna=False)\n",
        "                      .sort_index()\n",
        "                      *100)"
      ],
      "execution_count": 0,
      "outputs": [
        {
          "output_type": "execute_result",
          "data": {
            "text/plain": [
              "2015-06-11    0.002059\n",
              "2015-08-10    0.002059\n",
              "2015-09-09    0.002059\n",
              "2015-11-10    0.002059\n",
              "2015-12-05    0.002059\n",
              "2015-12-30    0.002059\n",
              "2016-01-03    0.002059\n",
              "2016-01-07    0.002059\n",
              "2016-01-10    0.004118\n",
              "2016-01-13    0.002059\n",
              "2016-01-14    0.002059\n",
              "2016-01-16    0.002059\n",
              "2016-01-22    0.002059\n",
              "2016-01-27    0.006177\n",
              "2016-01-29    0.002059\n",
              "2016-02-01    0.002059\n",
              "2016-02-02    0.004118\n",
              "2016-02-05    0.004118\n",
              "2016-02-07    0.002059\n",
              "2016-02-08    0.002059\n",
              "2016-02-09    0.002059\n",
              "2016-02-11    0.002059\n",
              "2016-02-12    0.004118\n",
              "2016-02-14    0.004118\n",
              "2016-02-16    0.002059\n",
              "2016-02-17    0.002059\n",
              "2016-02-18    0.004118\n",
              "2016-02-19    0.006177\n",
              "2016-02-20    0.004118\n",
              "2016-02-21    0.006177\n",
              "                ...   \n",
              "2016-03-09    3.315145\n",
              "2016-03-10    3.189540\n",
              "2016-03-11    3.290435\n",
              "2016-03-12    3.675486\n",
              "2016-03-13    1.700813\n",
              "2016-03-14    3.518995\n",
              "2016-03-15    3.401627\n",
              "2016-03-16    3.012458\n",
              "2016-03-17    3.127767\n",
              "2016-03-18    1.359003\n",
              "2016-03-19    3.368681\n",
              "2016-03-20    3.794914\n",
              "2016-03-21    3.757850\n",
              "2016-03-22    3.280140\n",
              "2016-03-23    3.206013\n",
              "2016-03-24    2.928035\n",
              "2016-03-25    3.175126\n",
              "2016-03-26    3.226604\n",
              "2016-03-27    3.098940\n",
              "2016-03-28    3.498404\n",
              "2016-03-29    3.403686\n",
              "2016-03-30    3.350149\n",
              "2016-03-31    3.187481\n",
              "2016-04-01    3.368681\n",
              "2016-04-02    3.514877\n",
              "2016-04-03    3.885514\n",
              "2016-04-04    3.685782\n",
              "2016-04-05    1.181921\n",
              "2016-04-06    0.325337\n",
              "2016-04-07    0.125605\n",
              "Name: ad_created, Length: 76, dtype: float64"
            ]
          },
          "metadata": {
            "tags": []
          },
          "execution_count": 47
        }
      ]
    },
    {
      "cell_type": "code",
      "metadata": {
        "id": "qAdz0vOfyA2m",
        "colab_type": "code",
        "outputId": "eac9b7ad-12e5-4a2a-f26c-e670549828f3",
        "colab": {
          "base_uri": "https://localhost:8080/",
          "height": 1108
        }
      },
      "source": [
        "(autos[\"ad_created\"].str[:10]\n",
        "                      .value_counts(normalize=True,dropna=False)\n",
        "                      .sort_values()\n",
        "                      *100)"
      ],
      "execution_count": 0,
      "outputs": [
        {
          "output_type": "execute_result",
          "data": {
            "text/plain": [
              "2016-02-09    0.002059\n",
              "2016-02-22    0.002059\n",
              "2016-02-07    0.002059\n",
              "2015-06-11    0.002059\n",
              "2016-01-03    0.002059\n",
              "2016-01-14    0.002059\n",
              "2016-02-11    0.002059\n",
              "2016-01-13    0.002059\n",
              "2016-01-07    0.002059\n",
              "2016-01-29    0.002059\n",
              "2015-09-09    0.002059\n",
              "2016-01-22    0.002059\n",
              "2015-08-10    0.002059\n",
              "2016-02-01    0.002059\n",
              "2016-02-16    0.002059\n",
              "2015-11-10    0.002059\n",
              "2016-01-16    0.002059\n",
              "2015-12-05    0.002059\n",
              "2016-02-17    0.002059\n",
              "2016-02-08    0.002059\n",
              "2015-12-30    0.002059\n",
              "2016-02-05    0.004118\n",
              "2016-02-02    0.004118\n",
              "2016-02-24    0.004118\n",
              "2016-02-26    0.004118\n",
              "2016-02-14    0.004118\n",
              "2016-02-20    0.004118\n",
              "2016-02-18    0.004118\n",
              "2016-02-12    0.004118\n",
              "2016-01-10    0.004118\n",
              "                ...   \n",
              "2016-03-06    1.531967\n",
              "2016-03-13    1.700813\n",
              "2016-03-05    2.289715\n",
              "2016-03-24    2.928035\n",
              "2016-03-16    3.012458\n",
              "2016-03-27    3.098940\n",
              "2016-03-17    3.127767\n",
              "2016-03-25    3.175126\n",
              "2016-03-31    3.187481\n",
              "2016-03-10    3.189540\n",
              "2016-03-23    3.206013\n",
              "2016-03-26    3.226604\n",
              "2016-03-22    3.280140\n",
              "2016-03-11    3.290435\n",
              "2016-03-09    3.315145\n",
              "2016-03-08    3.331617\n",
              "2016-03-30    3.350149\n",
              "2016-04-01    3.368681\n",
              "2016-03-19    3.368681\n",
              "2016-03-15    3.401627\n",
              "2016-03-29    3.403686\n",
              "2016-03-07    3.473695\n",
              "2016-03-28    3.498404\n",
              "2016-04-02    3.514877\n",
              "2016-03-14    3.518995\n",
              "2016-03-12    3.675486\n",
              "2016-04-04    3.685782\n",
              "2016-03-21    3.757850\n",
              "2016-03-20    3.794914\n",
              "2016-04-03    3.885514\n",
              "Name: ad_created, Length: 76, dtype: float64"
            ]
          },
          "metadata": {
            "tags": []
          },
          "execution_count": 48
        }
      ]
    },
    {
      "cell_type": "markdown",
      "metadata": {
        "id": "2KffbGD5yA2r",
        "colab_type": "text"
      },
      "source": [
        "We note that most of the cars' ads were created in the crawling period.\n",
        "There is a large variety of ad created dates, and oldest dates back to June 2015. "
      ]
    },
    {
      "cell_type": "markdown",
      "metadata": {
        "id": "7I-7VJ0kyA2r",
        "colab_type": "text"
      },
      "source": [
        "# Exploring the registration year column"
      ]
    },
    {
      "cell_type": "code",
      "metadata": {
        "id": "W19IqodPyA2s",
        "colab_type": "code",
        "outputId": "ade3b659-6b1d-476b-93da-7a87f0ccacf8",
        "colab": {
          "base_uri": "https://localhost:8080/",
          "height": 175
        }
      },
      "source": [
        "#let's check the distribution of the \"registration_year\" column\n",
        "autos[\"registration_year\"].describe()"
      ],
      "execution_count": 0,
      "outputs": [
        {
          "output_type": "execute_result",
          "data": {
            "text/plain": [
              "count    48565.000000\n",
              "mean      2004.755421\n",
              "std         88.643887\n",
              "min       1000.000000\n",
              "25%       1999.000000\n",
              "50%       2004.000000\n",
              "75%       2008.000000\n",
              "max       9999.000000\n",
              "Name: registration_year, dtype: float64"
            ]
          },
          "metadata": {
            "tags": []
          },
          "execution_count": 49
        }
      ]
    },
    {
      "cell_type": "markdown",
      "metadata": {
        "id": "3XqMmp86yA2x",
        "colab_type": "text"
      },
      "source": [
        "We note that the maximum (9999) and minimum (1000) registration years are unrealistic, therefore we need to further investigate these anomalies."
      ]
    },
    {
      "cell_type": "code",
      "metadata": {
        "id": "J4EnpRoAyA2y",
        "colab_type": "code",
        "outputId": "962dba5e-d272-48a7-af87-3c7c659e2ef7",
        "colab": {
          "base_uri": "https://localhost:8080/",
          "height": 1108
        }
      },
      "source": [
        "autos[\"registration_year\"].value_counts().sort_index()"
      ],
      "execution_count": 0,
      "outputs": [
        {
          "output_type": "execute_result",
          "data": {
            "text/plain": [
              "1000       1\n",
              "1001       1\n",
              "1111       1\n",
              "1800       2\n",
              "1910       5\n",
              "1927       1\n",
              "1929       1\n",
              "1931       1\n",
              "1934       2\n",
              "1937       4\n",
              "1938       1\n",
              "1939       1\n",
              "1941       2\n",
              "1943       1\n",
              "1948       1\n",
              "1950       3\n",
              "1951       2\n",
              "1952       1\n",
              "1953       1\n",
              "1954       2\n",
              "1955       2\n",
              "1956       4\n",
              "1957       2\n",
              "1958       4\n",
              "1959       6\n",
              "1960      23\n",
              "1961       6\n",
              "1962       4\n",
              "1963       8\n",
              "1964      12\n",
              "        ... \n",
              "2000    3156\n",
              "2001    2636\n",
              "2002    2486\n",
              "2003    2699\n",
              "2004    2703\n",
              "2005    2936\n",
              "2006    2670\n",
              "2007    2277\n",
              "2008    2215\n",
              "2009    2085\n",
              "2010    1589\n",
              "2011    1623\n",
              "2012    1310\n",
              "2013     803\n",
              "2014     663\n",
              "2015     392\n",
              "2016    1220\n",
              "2017    1392\n",
              "2018     470\n",
              "2019       2\n",
              "2800       1\n",
              "4100       1\n",
              "4500       1\n",
              "4800       1\n",
              "5000       4\n",
              "5911       1\n",
              "6200       1\n",
              "8888       1\n",
              "9000       1\n",
              "9999       3\n",
              "Name: registration_year, Length: 95, dtype: int64"
            ]
          },
          "metadata": {
            "tags": []
          },
          "execution_count": 50
        }
      ]
    },
    {
      "cell_type": "markdown",
      "metadata": {
        "id": "mtlSo_28yA22",
        "colab_type": "text"
      },
      "source": [
        "- Since a car can't be first registered after the listing was seen, any vehicle with a registration year above 2016 is definitely inaccurate. Determining the earliest valid year is more difficult. Realistically, it could be somewhere in the first few decades of the 1900s.\n",
        "- There it is safe to only count the cars with registration years falling in the interval 1900-2016."
      ]
    },
    {
      "cell_type": "code",
      "metadata": {
        "id": "q1DQLIhNyA23",
        "colab_type": "code",
        "outputId": "e777d950-6b36-46c3-8fcd-70a5e3093367",
        "colab": {
          "base_uri": "https://localhost:8080/",
          "height": 1108
        }
      },
      "source": [
        "#Remove the values outside the interval and calculate the distribution of the remaining values\n",
        "autos=autos[autos[\"registration_year\"].between(1900,2016)]\n",
        "autos[\"registration_year\"].value_counts(normalize=True).sort_values()*100"
      ],
      "execution_count": 0,
      "outputs": [
        {
          "output_type": "execute_result",
          "data": {
            "text/plain": [
              "1952    0.002142\n",
              "1953    0.002142\n",
              "1943    0.002142\n",
              "1929    0.002142\n",
              "1931    0.002142\n",
              "1938    0.002142\n",
              "1948    0.002142\n",
              "1927    0.002142\n",
              "1939    0.002142\n",
              "1955    0.004284\n",
              "1957    0.004284\n",
              "1934    0.004284\n",
              "1951    0.004284\n",
              "1941    0.004284\n",
              "1954    0.004284\n",
              "1950    0.006427\n",
              "1962    0.008569\n",
              "1937    0.008569\n",
              "1958    0.008569\n",
              "1956    0.008569\n",
              "1910    0.010711\n",
              "1959    0.012853\n",
              "1961    0.012853\n",
              "1963    0.017138\n",
              "1964    0.025706\n",
              "1965    0.036417\n",
              "1975    0.038560\n",
              "1969    0.040702\n",
              "1976    0.044986\n",
              "1977    0.047128\n",
              "          ...   \n",
              "1985    0.203509\n",
              "1988    0.289197\n",
              "1989    0.372743\n",
              "1991    0.726206\n",
              "1990    0.743343\n",
              "1992    0.792614\n",
              "2015    0.839742\n",
              "1993    0.910435\n",
              "1994    1.347443\n",
              "2014    1.420278\n",
              "2013    1.720186\n",
              "2016    2.613483\n",
              "1995    2.628478\n",
              "2012    2.806281\n",
              "1996    2.941239\n",
              "2010    3.403954\n",
              "2011    3.476789\n",
              "1997    4.179431\n",
              "2009    4.466485\n",
              "2008    4.744971\n",
              "2007    4.877788\n",
              "1998    5.062017\n",
              "2002    5.325507\n",
              "2001    5.646837\n",
              "2006    5.719672\n",
              "2003    5.781796\n",
              "2004    5.790364\n",
              "1999    6.205951\n",
              "2005    6.289497\n",
              "2000    6.760781\n",
              "Name: registration_year, Length: 78, dtype: float64"
            ]
          },
          "metadata": {
            "tags": []
          },
          "execution_count": 51
        }
      ]
    },
    {
      "cell_type": "markdown",
      "metadata": {
        "id": "RaQJWVcnyA26",
        "colab_type": "text"
      },
      "source": [
        "We note that most of the cars were registered in the last 20 years"
      ]
    },
    {
      "cell_type": "markdown",
      "metadata": {
        "id": "QCBAmlT0GGh5",
        "colab_type": "text"
      },
      "source": [
        "## Converting dates to numeric data"
      ]
    },
    {
      "cell_type": "markdown",
      "metadata": {
        "id": "9Ij4KyQNFo-_",
        "colab_type": "text"
      },
      "source": [
        "We will convert the dates to be uniform numeric data, <br>\n",
        "for example, \"2016-03-21\" becomes the integer 20160321."
      ]
    },
    {
      "cell_type": "code",
      "metadata": {
        "id": "hAXTMA3qFnq_",
        "colab_type": "code",
        "outputId": "0cf9dd80-2ca8-4a3a-f560-d140e4e0ce41",
        "colab": {
          "base_uri": "https://localhost:8080/",
          "height": 122
        }
      },
      "source": [
        "autos[\"ad_created\"]=autos[\"ad_created\"].str.replace(\"-\",\"\")\n",
        "autos[\"ad_created\"].head()"
      ],
      "execution_count": 0,
      "outputs": [
        {
          "output_type": "execute_result",
          "data": {
            "text/plain": [
              "0    20160326 00:00:00\n",
              "1    20160404 00:00:00\n",
              "2    20160326 00:00:00\n",
              "3    20160312 00:00:00\n",
              "4    20160401 00:00:00\n",
              "Name: ad_created, dtype: object"
            ]
          },
          "metadata": {
            "tags": []
          },
          "execution_count": 53
        }
      ]
    },
    {
      "cell_type": "code",
      "metadata": {
        "id": "1SJLEyU9cm1L",
        "colab_type": "code",
        "outputId": "18e273d9-49cc-40a4-9e52-d1dd3d411131",
        "colab": {
          "base_uri": "https://localhost:8080/",
          "height": 122
        }
      },
      "source": [
        "autos[\"last_seen\"]=autos[\"last_seen\"].str.replace(\"-\",\"\")\n",
        "autos[\"last_seen\"].head()"
      ],
      "execution_count": 0,
      "outputs": [
        {
          "output_type": "execute_result",
          "data": {
            "text/plain": [
              "0    20160406 06:45:54\n",
              "1    20160406 14:45:08\n",
              "2    20160406 20:15:37\n",
              "3    20160315 03:16:28\n",
              "4    20160401 14:38:50\n",
              "Name: last_seen, dtype: object"
            ]
          },
          "metadata": {
            "tags": []
          },
          "execution_count": 54
        }
      ]
    },
    {
      "cell_type": "code",
      "metadata": {
        "id": "V12GIX0HcnAe",
        "colab_type": "code",
        "outputId": "de479c7a-7001-4efa-c51f-87d4c53fb7d2",
        "colab": {
          "base_uri": "https://localhost:8080/",
          "height": 122
        }
      },
      "source": [
        "autos[\"date_crawled\"]=autos[\"date_crawled\"].str.replace(\"-\",\"\")\n",
        "autos[\"date_crawled\"].head()"
      ],
      "execution_count": 0,
      "outputs": [
        {
          "output_type": "execute_result",
          "data": {
            "text/plain": [
              "0    20160326 17:47:46\n",
              "1    20160404 13:38:56\n",
              "2    20160326 18:57:24\n",
              "3    20160312 16:58:10\n",
              "4    20160401 14:38:50\n",
              "Name: date_crawled, dtype: object"
            ]
          },
          "metadata": {
            "tags": []
          },
          "execution_count": 55
        }
      ]
    },
    {
      "cell_type": "markdown",
      "metadata": {
        "id": "KCqt6ysiyA27",
        "colab_type": "text"
      },
      "source": [
        "# Exploring price by brand"
      ]
    },
    {
      "cell_type": "code",
      "metadata": {
        "id": "wqiN1eZayA28",
        "colab_type": "code",
        "outputId": "00dc54b5-2182-4b48-c555-f58729550109",
        "colab": {}
      },
      "source": [
        "#first we will check which car brands we will be investigating\n",
        "autos[\"brand\"].value_counts(normalize=True).sort_values(ascending=False)*100"
      ],
      "execution_count": 0,
      "outputs": [
        {
          "output_type": "execute_result",
          "data": {
            "text/plain": [
              "volkswagen        21.126368\n",
              "bmw               11.004477\n",
              "opel              10.758124\n",
              "mercedes_benz      9.646323\n",
              "audi               8.656627\n",
              "ford               6.989996\n",
              "renault            4.714980\n",
              "peugeot            2.984083\n",
              "fiat               2.564212\n",
              "seat               1.827296\n",
              "skoda              1.640925\n",
              "nissan             1.527388\n",
              "mazda              1.518819\n",
              "smart              1.415994\n",
              "citroen            1.400998\n",
              "toyota             1.270324\n",
              "hyundai            1.002549\n",
              "sonstige_autos     0.981127\n",
              "volvo              0.914719\n",
              "mini               0.876159\n",
              "mitsubishi         0.822604\n",
              "honda              0.784045\n",
              "kia                0.706926\n",
              "alfa_romeo         0.664082\n",
              "porsche            0.612669\n",
              "suzuki             0.593389\n",
              "chevrolet          0.569825\n",
              "chrysler           0.351321\n",
              "dacia              0.263490\n",
              "daihatsu           0.250637\n",
              "jeep               0.227073\n",
              "subaru             0.214220\n",
              "land_rover         0.209936\n",
              "saab               0.164949\n",
              "jaguar             0.156381\n",
              "daewoo             0.149954\n",
              "trabant            0.139243\n",
              "rover              0.132816\n",
              "lancia             0.107110\n",
              "lada               0.057839\n",
              "Name: brand, dtype: float64"
            ]
          },
          "metadata": {
            "tags": []
          },
          "execution_count": 26
        }
      ]
    },
    {
      "cell_type": "markdown",
      "metadata": {
        "id": "LjvsoCBAyA3A",
        "colab_type": "text"
      },
      "source": [
        "We will find the mean price for each of the top 20% car brands in the dataset"
      ]
    },
    {
      "cell_type": "code",
      "metadata": {
        "id": "qRuMCEwkyA3C",
        "colab_type": "code",
        "outputId": "198023e5-d215-4877-c550-e4840c4ce97b",
        "colab": {}
      },
      "source": [
        "#create a subset of the top 20% of the car brands\n",
        "selected_brands=(autos[\"brand\"]\n",
        "                 .value_counts()\n",
        "                 .sort_values(ascending=False)\n",
        "                 .head(\n",
        "                     int(\n",
        "                     autos[\"brand\"]\n",
        "                         .unique()\n",
        "                         .shape[0]*0.2)\n",
        "                 ))\n",
        "selected_brands"
      ],
      "execution_count": 0,
      "outputs": [
        {
          "output_type": "execute_result",
          "data": {
            "text/plain": [
              "volkswagen       9862\n",
              "bmw              5137\n",
              "opel             5022\n",
              "mercedes_benz    4503\n",
              "audi             4041\n",
              "ford             3263\n",
              "renault          2201\n",
              "peugeot          1393\n",
              "Name: brand, dtype: int64"
            ]
          },
          "metadata": {
            "tags": []
          },
          "execution_count": 27
        }
      ]
    },
    {
      "cell_type": "markdown",
      "metadata": {
        "id": "w1zGCafAyA3G",
        "colab_type": "text"
      },
      "source": [
        "Now we will:\n",
        "- Create an empty dictionary to hold the aggregate data.\n",
        "- Loop over the selected brands, and assign the mean price to the dictionary, with the brand name as the key."
      ]
    },
    {
      "cell_type": "code",
      "metadata": {
        "id": "ehf9OpubyA3H",
        "colab_type": "code",
        "outputId": "eae2ebd0-154b-4db4-ecca-7c0383307aa6",
        "colab": {}
      },
      "source": [
        "mean_price_dict={}\n",
        "for brand in selected_brands.index:\n",
        "  mean_price_dict[brand]=autos.loc[autos[\"brand\"]==brand,\"price\"].mean()\n",
        "sorted(mean_price_dict.items(),key =lambda k: k[1])"
      ],
      "execution_count": 0,
      "outputs": [
        {
          "output_type": "execute_result",
          "data": {
            "text/plain": [
              "[('renault', 2474.8646069968195),\n",
              " ('opel', 2975.2419354838707),\n",
              " ('peugeot', 3094.0172290021537),\n",
              " ('ford', 3749.4695065890287),\n",
              " ('volkswagen', 5402.410261610221),\n",
              " ('bmw', 8332.820517811953),\n",
              " ('mercedes_benz', 8628.450366422385),\n",
              " ('audi', 9336.687453600594)]"
            ]
          },
          "metadata": {
            "tags": []
          },
          "execution_count": 34
        }
      ]
    },
    {
      "cell_type": "markdown",
      "metadata": {
        "collapsed": true,
        "id": "kqt1HCGuyA3N",
        "colab_type": "text"
      },
      "source": [
        "We notice that among the top 20% car brands, there's a distinct price gap. The brand with the lowest average price is renault (~2475), and the brand with the highest average price is audi (~9336).   "
      ]
    },
    {
      "cell_type": "markdown",
      "metadata": {
        "id": "AG7Cb0CXyA3O",
        "colab_type": "text"
      },
      "source": [
        "# Relating the price, brand and mileage"
      ]
    },
    {
      "cell_type": "markdown",
      "metadata": {
        "id": "opC1DmikyA3Q",
        "colab_type": "text"
      },
      "source": [
        "For the top 20% brands, we will use aggregation to understand the average mileage for those cars and if there's any visible link with mean price."
      ]
    },
    {
      "cell_type": "code",
      "metadata": {
        "id": "yCPIISuSyA3R",
        "colab_type": "code",
        "outputId": "a5b345e0-4a40-4500-c45e-d1946648403f",
        "colab": {}
      },
      "source": [
        "mean_mileage_dict={}\n",
        "for brand in selected_brands.index:\n",
        "  mean_mileage_dict[brand]=autos.loc[autos[\"brand\"]==brand,\"odometer_km\"].mean()\n",
        "sorted(mean_mileage_dict.items(),key =lambda k: k[1])"
      ],
      "execution_count": 0,
      "outputs": [
        {
          "output_type": "execute_result",
          "data": {
            "text/plain": [
              "[('ford', 124266.01287159056),\n",
              " ('peugeot', 127153.62526920316),\n",
              " ('renault', 128071.33121308497),\n",
              " ('volkswagen', 128707.15879132022),\n",
              " ('audi', 129157.38678544914),\n",
              " ('opel', 129310.0358422939),\n",
              " ('mercedes_benz', 130788.36331334666),\n",
              " ('bmw', 132572.51313996495)]"
            ]
          },
          "metadata": {
            "tags": []
          },
          "execution_count": 36
        }
      ]
    },
    {
      "cell_type": "markdown",
      "metadata": {
        "id": "lQf8K2wfyA3U",
        "colab_type": "text"
      },
      "source": [
        "Let's create a new dataframe to store the top 20% car brands, their mean prices and their mean mileage"
      ]
    },
    {
      "cell_type": "code",
      "metadata": {
        "id": "Zu1WpfpByA3V",
        "colab_type": "code",
        "colab": {}
      },
      "source": [
        "#create two series for the mean prices and the mean mileages\n",
        "mean_prices=pd.Series(mean_price_dict)\n",
        "mean_mileage=pd.Series(mean_mileage_dict)"
      ],
      "execution_count": 0,
      "outputs": []
    },
    {
      "cell_type": "code",
      "metadata": {
        "id": "jSokWHpkyA3Y",
        "colab_type": "code",
        "outputId": "4a3abaa8-3648-4e67-e166-6ab48ada378a",
        "colab": {}
      },
      "source": [
        "#Now create the dataframe using the two series\n",
        "top_brands=pd.DataFrame(mean_prices,columns=[\"mean_prices\"])\n",
        "top_brands[\"mean_mileage\"]=mean_mileage\n",
        "top_brands"
      ],
      "execution_count": 0,
      "outputs": [
        {
          "output_type": "execute_result",
          "data": {
            "text/html": [
              "<div>\n",
              "<style scoped>\n",
              "    .dataframe tbody tr th:only-of-type {\n",
              "        vertical-align: middle;\n",
              "    }\n",
              "\n",
              "    .dataframe tbody tr th {\n",
              "        vertical-align: top;\n",
              "    }\n",
              "\n",
              "    .dataframe thead th {\n",
              "        text-align: right;\n",
              "    }\n",
              "</style>\n",
              "<table border=\"1\" class=\"dataframe\">\n",
              "  <thead>\n",
              "    <tr style=\"text-align: right;\">\n",
              "      <th></th>\n",
              "      <th>mean_prices</th>\n",
              "      <th>mean_mileage</th>\n",
              "    </tr>\n",
              "  </thead>\n",
              "  <tbody>\n",
              "    <tr>\n",
              "      <th>audi</th>\n",
              "      <td>9336.687454</td>\n",
              "      <td>129157.386785</td>\n",
              "    </tr>\n",
              "    <tr>\n",
              "      <th>bmw</th>\n",
              "      <td>8332.820518</td>\n",
              "      <td>132572.513140</td>\n",
              "    </tr>\n",
              "    <tr>\n",
              "      <th>ford</th>\n",
              "      <td>3749.469507</td>\n",
              "      <td>124266.012872</td>\n",
              "    </tr>\n",
              "    <tr>\n",
              "      <th>mercedes_benz</th>\n",
              "      <td>8628.450366</td>\n",
              "      <td>130788.363313</td>\n",
              "    </tr>\n",
              "    <tr>\n",
              "      <th>opel</th>\n",
              "      <td>2975.241935</td>\n",
              "      <td>129310.035842</td>\n",
              "    </tr>\n",
              "    <tr>\n",
              "      <th>peugeot</th>\n",
              "      <td>3094.017229</td>\n",
              "      <td>127153.625269</td>\n",
              "    </tr>\n",
              "    <tr>\n",
              "      <th>renault</th>\n",
              "      <td>2474.864607</td>\n",
              "      <td>128071.331213</td>\n",
              "    </tr>\n",
              "    <tr>\n",
              "      <th>volkswagen</th>\n",
              "      <td>5402.410262</td>\n",
              "      <td>128707.158791</td>\n",
              "    </tr>\n",
              "  </tbody>\n",
              "</table>\n",
              "</div>"
            ],
            "text/plain": [
              "               mean_prices   mean_mileage\n",
              "audi           9336.687454  129157.386785\n",
              "bmw            8332.820518  132572.513140\n",
              "ford           3749.469507  124266.012872\n",
              "mercedes_benz  8628.450366  130788.363313\n",
              "opel           2975.241935  129310.035842\n",
              "peugeot        3094.017229  127153.625269\n",
              "renault        2474.864607  128071.331213\n",
              "volkswagen     5402.410262  128707.158791"
            ]
          },
          "metadata": {
            "tags": []
          },
          "execution_count": 48
        }
      ]
    },
    {
      "cell_type": "markdown",
      "metadata": {
        "id": "3isEAdmJyA3b",
        "colab_type": "text"
      },
      "source": [
        "We will check the standard deviation between the top 20% brands' mileages"
      ]
    },
    {
      "cell_type": "markdown",
      "metadata": {
        "id": "ZXk21fDIyA3d",
        "colab_type": "text"
      },
      "source": [
        "- We note that for all the top 20% brands, the mean mileages are very close to each other. The range of car mileages does not vary as much as the prices do by brand. \n",
        "- There is a slight trend to the more expensive cars to have higher mileage, and the less expensive cars to have lower mileage."
      ]
    },
    {
      "cell_type": "markdown",
      "metadata": {
        "id": "M9Gv1Na_yA3l",
        "colab_type": "text"
      },
      "source": [
        "# Investigating the num_photos column"
      ]
    },
    {
      "cell_type": "code",
      "metadata": {
        "id": "B7kAdR8HyA3l",
        "colab_type": "code",
        "outputId": "a386c83b-d18a-4b32-92b7-9de1082cbbfc",
        "colab": {}
      },
      "source": [
        "#we will take a closer look\n",
        "autos[\"num_photos\"].value_counts()"
      ],
      "execution_count": 0,
      "outputs": [
        {
          "output_type": "execute_result",
          "data": {
            "text/plain": [
              "0    46681\n",
              "Name: num_photos, dtype: int64"
            ]
          },
          "metadata": {
            "tags": []
          },
          "execution_count": 57
        }
      ]
    },
    {
      "cell_type": "markdown",
      "metadata": {
        "id": "TVkNtDeEyA34",
        "colab_type": "text"
      },
      "source": [
        "We note that the num_photos column have only one value which is 0. Therefore, we can safely remove this column."
      ]
    },
    {
      "cell_type": "code",
      "metadata": {
        "id": "6yJbohKSyA35",
        "colab_type": "code",
        "outputId": "f34b6652-27d3-40b0-b52d-78aa5791a530",
        "colab": {}
      },
      "source": [
        "autos.drop(\"num_photos\",axis=1,inplace=True)\n",
        "autos.columns"
      ],
      "execution_count": 0,
      "outputs": [
        {
          "output_type": "execute_result",
          "data": {
            "text/plain": [
              "Index(['date_crawled', 'name', 'seller', 'offer_type', 'price', 'ab_test',\n",
              "       'vehicle_type', 'registration_year', 'gearbox', 'power_ps', 'model',\n",
              "       'odometer_km', 'registration_month', 'fuel_type', 'brand',\n",
              "       'unrepaired_damage', 'ad_created', 'postal_code', 'last_seen'],\n",
              "      dtype='object')"
            ]
          },
          "metadata": {
            "tags": []
          },
          "execution_count": 59
        }
      ]
    }
  ]
}
